{
 "cells": [
  {
   "cell_type": "code",
   "execution_count": 1,
   "metadata": {
    "colab": {
     "base_uri": "https://localhost:8080/",
     "height": 124
    },
    "colab_type": "code",
    "executionInfo": {
     "elapsed": 21946,
     "status": "ok",
     "timestamp": 1567911309582,
     "user": {
      "displayName": "Ying Xie",
      "photoUrl": "https://lh3.googleusercontent.com/a-/AAuE7mAg3gKNJMtl3uJ6DYGrtGT0tKIAwhQB516RnoMLz14=s64",
      "userId": "08357494139510655441"
     },
     "user_tz": 420
    },
    "id": "FTc6_pLhV5dx",
    "outputId": "2f3f2d57-9900-44d6-a8b0-fa8060b0ad54"
   },
   "outputs": [],
   "source": [
    "import pandas as pd\n",
    "import matplotlib.pyplot as plt\n",
    "import numpy as np\n"
   ]
  },
  {
   "cell_type": "code",
   "execution_count": 2,
   "metadata": {
    "colab": {},
    "colab_type": "code",
    "id": "gT8E2Lqjg-p4"
   },
   "outputs": [],
   "source": [
    "BASEPATH = '.'"
   ]
  },
  {
   "cell_type": "code",
   "execution_count": 4,
   "metadata": {
    "colab": {},
    "colab_type": "code",
    "id": "vNVuOUZWWB3K"
   },
   "outputs": [],
   "source": [
    "test_id = pd.read_csv(f'{BASEPATH}/data/test_identity.csv.zip')\n",
    "test_trans = pd.read_csv(f'{BASEPATH}/data/test_transaction.csv.zip')"
   ]
  },
  {
   "cell_type": "code",
   "execution_count": 11,
   "metadata": {
    "cellView": "both",
    "colab": {},
    "colab_type": "code",
    "id": "CFEYKrsnWYc0"
   },
   "outputs": [],
   "source": [
    "#@title\n",
    "import abc\n",
    "from sklearn.model_selection import KFold, StratifiedKFold\n",
    "import lightgbm as lgb\n",
    "import gc\n",
    "\n",
    "def prediction_to_df(target_col, pred):\n",
    "    if len(pred.shape) == 2:\n",
    "        pred_cols = [f'{target_col}_{i}' for i in range(pred.shape[1])]\n",
    "    else:\n",
    "        pred_cols = [target_col]\n",
    "    return pd.DataFrame(pred, columns=pred_cols)\n",
    "\n",
    "class MLModel(abc.ABC):\n",
    "    def __init__(self, name, path, label_col, target_col, num_folds=0, feat_cols=None, out_cols=None):\n",
    "        self.model = None\n",
    "        self.name = name\n",
    "        self.path = path\n",
    "        self.fold_model_path = None\n",
    "        self.label_col = label_col\n",
    "        self.target_col = target_col\n",
    "        self.num_folds = num_folds\n",
    "        self.feat_cols = feat_cols\n",
    "        self.out_cols = out_cols\n",
    "        print(f'features {self.feat_cols}')\n",
    "\n",
    "    @abc.abstractclassmethod\n",
    "    def load(self, model_path):\n",
    "        assert False\n",
    "\n",
    "    @abc.abstractclassmethod\n",
    "    def save(self, model_path):\n",
    "        assert False\n",
    "\n",
    "    def pre_fold(self, fold):\n",
    "        model_name = f'{self.name}-{fold}'\n",
    "        self.fold_model_path = f'{self.path}/models/{model_name}'\n",
    "        try:\n",
    "            self.load(self.fold_model_path)\n",
    "            print(f'loaded model from {self.fold_model_path}')\n",
    "        except:\n",
    "            pass\n",
    "\n",
    "    def post_fold(self, fold):\n",
    "        self.save(self.fold_model_path)\n",
    "\n",
    "    @abc.abstractclassmethod\n",
    "    def train_one_fold(self, fold, params, train_df, train_idx, valid_idx):\n",
    "        assert False\n",
    "\n",
    "    @abc.abstractclassmethod\n",
    "    def predict_one_fold(self, df):\n",
    "        assert False\n",
    "\n",
    "    def pre_train(self):\n",
    "        return\n",
    "\n",
    "    def post_train(self):\n",
    "        return\n",
    "\n",
    "    def train(self, train_df, params, stratified=False, random_shuffle=True):\n",
    "        print(\"Starting training. Train shape: {}\".format(train_df.shape))\n",
    "\n",
    "        # Cross validation model\n",
    "        if self.num_folds > 1:\n",
    "            if stratified:\n",
    "                kf = StratifiedKFold(n_splits=self.num_folds, shuffle=True, random_state=326)\n",
    "            else:\n",
    "                kf = KFold(n_splits=self.num_folds, shuffle=True, random_state=326)\n",
    "        else:\n",
    "            kf = MLSplit(random_shuffle, 0.8)\n",
    "\n",
    "        self.pre_train()\n",
    "        # k-fold\n",
    "        for fold, (train_idx, valid_idx) in enumerate(kf.split(train_df[self.feat_cols], train_df[self.target_col])):\n",
    "            print(\"Fold {}\".format(fold + 1))\n",
    "\n",
    "            self.pre_fold(fold)\n",
    "            self.train_one_fold(fold, params, train_df, train_idx, valid_idx)\n",
    "            self.post_fold(fold)\n",
    "            gc.collect()\n",
    "\n",
    "        self.post_train()\n",
    "\n",
    "    def predict(self, df):\n",
    "        include_header = False\n",
    "        pred_file = f'{self.path}/{self.name}_pred.csv'\n",
    "        try:\n",
    "            last_pred_time = pd.read_csv(pred_file).iloc[-1].timestamp\n",
    "            df = df[df.timestamp > last_pred_time].copy()\n",
    "            if len(df) == 0:\n",
    "                return\n",
    "        except:\n",
    "            include_header = True\n",
    "\n",
    "        sub_preds = None\n",
    "        for fold in range(self.num_folds):\n",
    "            self.pre_fold(fold)\n",
    "            pred = self.predict_one_fold(df[self.feat_cols]) / self.num_folds\n",
    "            if sub_preds is None:\n",
    "                sub_preds = np.zeros(pred.shape)\n",
    "            sub_preds += pred\n",
    "            gc.collect()\n",
    "\n",
    "        pred_df = prediction_to_df(self.target_col, sub_preds)\n",
    "        df = pd.concat([df.reset_index(drop=True), pred_df], axis=1)\n",
    "\n",
    "        if self.out_cols is None:\n",
    "            self.out_cols = [self.label_col] + pred_df.columns.tolist()\n",
    "\n",
    "        if include_header:\n",
    "            df[self.out_cols].to_csv(pred_file, index=False)\n",
    "        else:\n",
    "            out_csv = df[self.out_cols].to_csv(index=False, header=include_header)\n",
    "            f = open(pred_file, 'a')\n",
    "            f.write(out_csv)\n",
    "\n",
    "class LGBModel(MLModel):\n",
    "    def __init__(self, name, path, label_col, target_col, num_folds=0, feat_cols=None, out_cols=None):\n",
    "        super().__init__(name, path, label_col, target_col, num_folds, feat_cols, out_cols)\n",
    "        self.feature_importance_df = pd.DataFrame()\n",
    "\n",
    "    def load(self, model_path):\n",
    "        self.model = lgb.Booster(model_file=model_path)\n",
    "\n",
    "    def save(self, model_path):\n",
    "        self.model.save_model(filename=model_path, num_iteration=self.model.best_iteration)\n",
    "        print(f'saved model iteration {self.model.best_iteration} to {model_path}')\n",
    "\n",
    "    def train_one_fold(self, fold, params, train_df, train_idx, valid_idx):\n",
    "        params['seed'] = params['bagging_seed'] = params['drop_seed'] = int(2 ** fold)\n",
    "        train_set = lgb.Dataset(train_df[self.feat_cols].iloc[train_idx],\n",
    "                                label=train_df[self.target_col].iloc[train_idx])\n",
    "        valid_set = lgb.Dataset(train_df[self.feat_cols].iloc[valid_idx],\n",
    "                                label=train_df[self.target_col].iloc[valid_idx])\n",
    "\n",
    "        self.model = lgb.train(params, train_set, valid_sets=valid_set, verbose_eval=100)\n",
    "\n",
    "        fold_importance_df = pd.DataFrame()\n",
    "        fold_importance_df[\"feature\"] = self.feat_cols\n",
    "        fold_importance_df[\"importance\"] = np.log1p(\n",
    "            self.model.feature_importance(importance_type='gain', iteration=self.model.best_iteration))\n",
    "        fold_importance_df[\"fold\"] = fold + 1\n",
    "        self.feature_importance_df = pd.concat([self.feature_importance_df, fold_importance_df], axis=0)\n",
    "\n",
    "    def predict_one_fold(self, df):\n",
    "        return self.model.predict(df[self.feat_cols], num_iteration=self.model.best_iteration)\n",
    "\n",
    "    def post_train(self):\n",
    "        super().post_train()\n",
    "        display_importances(self.feature_importance_df)\n"
   ]
  },
  {
   "cell_type": "code",
   "execution_count": 6,
   "metadata": {
    "colab": {},
    "colab_type": "code",
    "id": "m70x42K6C6CC"
   },
   "outputs": [],
   "source": [
    "import seaborn as sns\n",
    "# Display/plot feature importance\n",
    "def display_importances(feature_importance_df_):\n",
    "    sorted_df = feature_importance_df_[[\"feature\", \"importance\"]].groupby(\"feature\").mean().sort_values(\n",
    "        by=\"importance\", ascending=False)\n",
    "    print(sorted_df)\n",
    "\n",
    "    threshold = 40\n",
    "    cols = sorted_df[:threshold].index\n",
    "    best_features = feature_importance_df_.loc[feature_importance_df_.feature.isin(cols)]\n",
    "\n",
    "    plt.figure(figsize=(8, 10))\n",
    "    sns.barplot(x=\"importance\", y=\"feature\", data=best_features.sort_values(by=\"importance\", ascending=False))\n",
    "    plt.title('LightGBM Features (avg over folds)')\n",
    "    plt.tight_layout()\n",
    "    plt.show()\n",
    "    # plt.savefig('lgbm_importances.png')\n",
    "\n"
   ]
  },
  {
   "cell_type": "code",
   "execution_count": 7,
   "metadata": {
    "colab": {},
    "colab_type": "code",
    "id": "QX4S_1nBYxRw"
   },
   "outputs": [],
   "source": [
    "# change all object type columns to int columns and mark them as categorical\n",
    "def object_to_cat(df):\n",
    "  for c in df.columns:\n",
    "      col_type = df[c].dtype\n",
    "      if col_type == object or col_type.name == 'category':\n",
    "          print(f'Converting {c} to category')\n",
    "          df[c] = df[c].astype('category')"
   ]
  },
  {
   "cell_type": "code",
   "execution_count": 8,
   "metadata": {
    "colab": {
     "base_uri": "https://localhost:8080/",
     "height": 259
    },
    "colab_type": "code",
    "executionInfo": {
     "elapsed": 59993,
     "status": "ok",
     "timestamp": 1567911347660,
     "user": {
      "displayName": "Ying Xie",
      "photoUrl": "https://lh3.googleusercontent.com/a-/AAuE7mAg3gKNJMtl3uJ6DYGrtGT0tKIAwhQB516RnoMLz14=s64",
      "userId": "08357494139510655441"
     },
     "user_tz": 420
    },
    "id": "FBTDwWkTdKqr",
    "outputId": "0bd944db-0144-4cf6-c125-9e11300fbd8c"
   },
   "outputs": [
    {
     "name": "stdout",
     "output_type": "stream",
     "text": [
      "Converting ProductCD to category\n",
      "Converting card4 to category\n",
      "Converting card6 to category\n",
      "Converting P_emaildomain to category\n",
      "Converting R_emaildomain to category\n",
      "Converting M1 to category\n",
      "Converting M2 to category\n",
      "Converting M3 to category\n",
      "Converting M4 to category\n",
      "Converting M5 to category\n",
      "Converting M6 to category\n",
      "Converting M7 to category\n",
      "Converting M8 to category\n",
      "Converting M9 to category\n"
     ]
    }
   ],
   "source": [
    "object_to_cat(test_trans)"
   ]
  },
  {
   "cell_type": "code",
   "execution_count": 9,
   "metadata": {
    "colab": {},
    "colab_type": "code",
    "id": "dDb9t-4DdVo7"
   },
   "outputs": [],
   "source": [
    "exclude_cols = {'TransactionID', 'isFraud'}\n",
    "feat_cols = [col for col in test_trans.columns if col not in exclude_cols]"
   ]
  },
  {
   "cell_type": "code",
   "execution_count": 13,
   "metadata": {
    "colab": {
     "base_uri": "https://localhost:8080/",
     "height": 72
    },
    "colab_type": "code",
    "id": "qR7FQgdRi2bZ",
    "outputId": "70752577-7fb1-49a1-ca3c-e01b3f6a52e5"
   },
   "outputs": [
    {
     "name": "stdout",
     "output_type": "stream",
     "text": [
      "features ['TransactionDT', 'TransactionAmt', 'ProductCD', 'card1', 'card2', 'card3', 'card4', 'card5', 'card6', 'addr1', 'addr2', 'dist1', 'dist2', 'P_emaildomain', 'R_emaildomain', 'C1', 'C2', 'C3', 'C4', 'C5', 'C6', 'C7', 'C8', 'C9', 'C10', 'C11', 'C12', 'C13', 'C14', 'D1', 'D2', 'D3', 'D4', 'D5', 'D6', 'D7', 'D8', 'D9', 'D10', 'D11', 'D12', 'D13', 'D14', 'D15', 'M1', 'M2', 'M3', 'M4', 'M5', 'M6', 'M7', 'M8', 'M9', 'V1', 'V2', 'V3', 'V4', 'V5', 'V6', 'V7', 'V8', 'V9', 'V10', 'V11', 'V12', 'V13', 'V14', 'V15', 'V16', 'V17', 'V18', 'V19', 'V20', 'V21', 'V22', 'V23', 'V24', 'V25', 'V26', 'V27', 'V28', 'V29', 'V30', 'V31', 'V32', 'V33', 'V34', 'V35', 'V36', 'V37', 'V38', 'V39', 'V40', 'V41', 'V42', 'V43', 'V44', 'V45', 'V46', 'V47', 'V48', 'V49', 'V50', 'V51', 'V52', 'V53', 'V54', 'V55', 'V56', 'V57', 'V58', 'V59', 'V60', 'V61', 'V62', 'V63', 'V64', 'V65', 'V66', 'V67', 'V68', 'V69', 'V70', 'V71', 'V72', 'V73', 'V74', 'V75', 'V76', 'V77', 'V78', 'V79', 'V80', 'V81', 'V82', 'V83', 'V84', 'V85', 'V86', 'V87', 'V88', 'V89', 'V90', 'V91', 'V92', 'V93', 'V94', 'V95', 'V96', 'V97', 'V98', 'V99', 'V100', 'V101', 'V102', 'V103', 'V104', 'V105', 'V106', 'V107', 'V108', 'V109', 'V110', 'V111', 'V112', 'V113', 'V114', 'V115', 'V116', 'V117', 'V118', 'V119', 'V120', 'V121', 'V122', 'V123', 'V124', 'V125', 'V126', 'V127', 'V128', 'V129', 'V130', 'V131', 'V132', 'V133', 'V134', 'V135', 'V136', 'V137', 'V138', 'V139', 'V140', 'V141', 'V142', 'V143', 'V144', 'V145', 'V146', 'V147', 'V148', 'V149', 'V150', 'V151', 'V152', 'V153', 'V154', 'V155', 'V156', 'V157', 'V158', 'V159', 'V160', 'V161', 'V162', 'V163', 'V164', 'V165', 'V166', 'V167', 'V168', 'V169', 'V170', 'V171', 'V172', 'V173', 'V174', 'V175', 'V176', 'V177', 'V178', 'V179', 'V180', 'V181', 'V182', 'V183', 'V184', 'V185', 'V186', 'V187', 'V188', 'V189', 'V190', 'V191', 'V192', 'V193', 'V194', 'V195', 'V196', 'V197', 'V198', 'V199', 'V200', 'V201', 'V202', 'V203', 'V204', 'V205', 'V206', 'V207', 'V208', 'V209', 'V210', 'V211', 'V212', 'V213', 'V214', 'V215', 'V216', 'V217', 'V218', 'V219', 'V220', 'V221', 'V222', 'V223', 'V224', 'V225', 'V226', 'V227', 'V228', 'V229', 'V230', 'V231', 'V232', 'V233', 'V234', 'V235', 'V236', 'V237', 'V238', 'V239', 'V240', 'V241', 'V242', 'V243', 'V244', 'V245', 'V246', 'V247', 'V248', 'V249', 'V250', 'V251', 'V252', 'V253', 'V254', 'V255', 'V256', 'V257', 'V258', 'V259', 'V260', 'V261', 'V262', 'V263', 'V264', 'V265', 'V266', 'V267', 'V268', 'V269', 'V270', 'V271', 'V272', 'V273', 'V274', 'V275', 'V276', 'V277', 'V278', 'V279', 'V280', 'V281', 'V282', 'V283', 'V284', 'V285', 'V286', 'V287', 'V288', 'V289', 'V290', 'V291', 'V292', 'V293', 'V294', 'V295', 'V296', 'V297', 'V298', 'V299', 'V300', 'V301', 'V302', 'V303', 'V304', 'V305', 'V306', 'V307', 'V308', 'V309', 'V310', 'V311', 'V312', 'V313', 'V314', 'V315', 'V316', 'V317', 'V318', 'V319', 'V320', 'V321', 'V322', 'V323', 'V324', 'V325', 'V326', 'V327', 'V328', 'V329', 'V330', 'V331', 'V332', 'V333', 'V334', 'V335', 'V336', 'V337', 'V338', 'V339']\n",
      "loaded model from ./models/lgb_all_features-0\n",
      "loaded model from ./models/lgb_all_features-1\n",
      "loaded model from ./models/lgb_all_features-2\n",
      "loaded model from ./models/lgb_all_features-3\n",
      "loaded model from ./models/lgb_all_features-4\n"
     ]
    }
   ],
   "source": [
    "lgb_model = LGBModel(f'lgb_all_features', BASEPATH, 'TransactionID', 'isFraud', \n",
    "                     num_folds=5, feat_cols=feat_cols)\n",
    "lgb_model.predict(test_trans)\n"
   ]
  },
  {
   "cell_type": "code",
   "execution_count": null,
   "metadata": {
    "colab": {},
    "colab_type": "code",
    "id": "wMCVTvcwi422"
   },
   "outputs": [],
   "source": []
  }
 ],
 "metadata": {
  "accelerator": "GPU",
  "colab": {
   "collapsed_sections": [],
   "name": "lgb_predict.ipynb",
   "provenance": [],
   "version": "0.3.2"
  },
  "kernelspec": {
   "display_name": "Python 3",
   "language": "python",
   "name": "python3"
  },
  "language_info": {
   "codemirror_mode": {
    "name": "ipython",
    "version": 3
   },
   "file_extension": ".py",
   "mimetype": "text/x-python",
   "name": "python",
   "nbconvert_exporter": "python",
   "pygments_lexer": "ipython3",
   "version": "3.6.8"
  }
 },
 "nbformat": 4,
 "nbformat_minor": 1
}
