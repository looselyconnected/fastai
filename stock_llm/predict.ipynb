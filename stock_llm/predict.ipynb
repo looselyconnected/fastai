{
 "cells": [
  {
   "cell_type": "code",
   "execution_count": 1,
   "id": "906ce1ed-cee8-4649-a33c-2bb9c4b1da35",
   "metadata": {},
   "outputs": [],
   "source": [
    "import os\n",
    "import pandas as pd\n",
    "from contextlib import nullcontext\n",
    "import matplotlib.pyplot as plt\n",
    "\n",
    "import numpy as np\n",
    "import torch\n",
    "\n",
    "from model import GPTConfig, GPT\n",
    "from data import data_columns, get_data_for_eval, decode_data, encode_data\n",
    "from stockdata import StockData\n"
   ]
  },
  {
   "cell_type": "code",
   "execution_count": 2,
   "id": "c12e9a18-1fe1-4bc3-bb9d-b5d1eee1129f",
   "metadata": {},
   "outputs": [],
   "source": [
    "ticker = 'SPY'\n",
    "currentDir = '.'"
   ]
  },
  {
   "cell_type": "code",
   "execution_count": 3,
   "id": "6f815bf7-9a32-4621-a19a-d3cbb4d2ab14",
   "metadata": {},
   "outputs": [],
   "source": [
    "# -----------------------------------------------------------------------------\n",
    "# configs\n",
    "# I/O\n",
    "out_dir = 'out'\n",
    "\n",
    "# system\n",
    "device = 'mps' # examples: 'cpu', 'cuda', 'cuda:0', 'cuda:1' etc., or try 'mps' on macbooks\n",
    "dtype = 'bfloat16' if torch.cuda.is_available() and torch.cuda.is_bf16_supported() else 'float16' # 'float32', 'bfloat16', or 'float16', the latter will auto implement a GradScaler\n",
    "\n",
    "# various inits, derived attributes, I/O setup\n",
    "seed_offset = 0\n",
    "\n",
    "torch.manual_seed(1337 + seed_offset)\n",
    "torch.backends.cuda.matmul.allow_tf32 = True # allow tf32 on matmul\n",
    "torch.backends.cudnn.allow_tf32 = True # allow tf32 on cudnn\n",
    "device_type = 'cuda' if 'cuda' in device else 'cpu' # for later use in torch.autocast\n",
    "# note: float16 data type will automatically use a GradScaler\n",
    "ptdtype = {'float32': torch.float32, 'bfloat16': torch.bfloat16, 'float16': torch.float16}[dtype]\n",
    "ctx = nullcontext() if device_type == 'cpu' else torch.amp.autocast(device_type=device_type, dtype=ptdtype)\n"
   ]
  },
  {
   "cell_type": "code",
   "execution_count": 42,
   "id": "212e1e06-425d-442a-951d-2b5ab4d76736",
   "metadata": {},
   "outputs": [
    {
     "name": "stdout",
     "output_type": "stream",
     "text": [
      "number of parameters: 0.80M\n"
     ]
    }
   ],
   "source": [
    "# model init\n",
    "model_args = dict()\n",
    "\n",
    "ckpt_path = os.path.join(out_dir, 'ckpt.pt')\n",
    "if not os.path.exists(ckpt_path):\n",
    "    print(\"can't find checkpoint file: \" + ckpt_path)\n",
    "    exit(1)\n",
    "\n",
    "checkpoint = torch.load(ckpt_path, map_location=device)\n",
    "checkpoint_model_args = checkpoint['model_args']\n",
    "# force these config attributes to be equal otherwise we can't even resume training\n",
    "# the rest of the attributes (e.g. dropout) can stay as desired from command line\n",
    "for k in ['n_layer', 'n_head', 'n_embd', 'block_size', 'bias', 'vocab_size']:\n",
    "    model_args[k] = checkpoint_model_args[k]\n",
    "# create the model\n",
    "gptconf = GPTConfig(**model_args)\n",
    "model = GPT(gptconf)\n",
    "state_dict = checkpoint['model']\n",
    "# fix the keys of the state dictionary :(\n",
    "# honestly no idea how checkpoints sometimes get this prefix, have to debug more\n",
    "unwanted_prefix = '_orig_mod.'\n",
    "for k,v in list(state_dict.items()):\n",
    "    if k.startswith(unwanted_prefix):\n",
    "        state_dict[k[len(unwanted_prefix):]] = state_dict.pop(k)\n",
    "model.load_state_dict(state_dict)\n",
    "\n",
    "model.to(device)\n",
    "model.eval()\n",
    "checkpoint = None # free up memory\n"
   ]
  },
  {
   "cell_type": "code",
   "execution_count": 98,
   "id": "46da3f68-4d00-467c-9be4-c2032e969e4a",
   "metadata": {},
   "outputs": [
    {
     "name": "stdout",
     "output_type": "stream",
     "text": [
      "Predicting for dates > 2024-05-03\n",
      "=== close mean 0.11000000000000001 volume mean 0.015000000000000003 vix 12.5 ===\n",
      "=== open mean 0.22374999999999998 high mean 0.9137500000000001 low mean -0.57375 ===\n",
      "\n"
     ]
    },
    {
     "data": {
      "image/png": "[encoded data removed]",
      "text/plain": [
       "<Figure size 1000x500 with 1 Axes>"
      ]
     },
     "metadata": {},
     "output_type": "display_data"
    }
   ],
   "source": [
    "plt.figure(figsize=(10, 5)) \n",
    "std_columns = ['close_std', 'open_std', 'high_std', 'low_std', 'volume_std', 'vix']\n",
    "cutoff_date = \"3024-05-01\"\n",
    "iter_count = 5\n",
    "predict_days = 20\n",
    "all_data_df = get_data_for_eval(ticker, data_dir=f\"{currentDir}/data\")\n",
    "context_df = all_data_df[all_data_df.Date <= cutoff_date]\n",
    "context = encode_data(context_df)\n",
    "\n",
    "preds = []\n",
    "for i in range(iter_count):\n",
    "    y = model.generate(context.to(device), max_new_tokens=predict_days*len(data_columns), temperature=0.5)\n",
    "    pred = decode_data(y) # pred includes all the context\n",
    "    new_pred = pred[-predict_days:].copy()\n",
    "    new_pred.loc[:, 'close_std'] = (new_pred.close_bucket - StockData.CLOSE_LABELS.min()).map(lambda x: StockData.BIN_VALUES[x])\n",
    "    new_pred.loc[:, 'open_std'] = (new_pred.open_bucket - StockData.OPEN_LABELS.min()).map(lambda x: StockData.BIN_VALUES[x])\n",
    "    new_pred.loc[:, 'high_std'] = (new_pred.high_bucket - StockData.HIGH_LABELS.min()).map(lambda x: StockData.BIN_VALUES[x])\n",
    "    new_pred.loc[:, 'low_std'] = (new_pred.low_bucket - StockData.LOW_LABELS.min()).map(lambda x: StockData.BIN_VALUES[x])\n",
    "    new_pred.loc[:, 'volume_std'] = (new_pred.volume_bucket  - StockData.VOLUME_LABELS.min()).map(lambda x: StockData.BIN_VALUES[x])\n",
    "    new_pred.loc[:, 'vix'] = (new_pred.vix_bucket  - StockData.VIX_LABELS.min()).map(lambda x: StockData.VIX_BINS[x])\n",
    "    # plt.plot(new_pred.close_std.cumsum(), label='prediction') \n",
    "\n",
    "    preds.append(new_pred)\n",
    "\n",
    "new_pred = preds[0]\n",
    "for i in range(1, iter_count):\n",
    "    new_pred += preds[i]\n",
    "new_pred /= iter_count\n",
    "\n",
    "\n",
    "print(f\"Predicting for dates > {context_df.iloc[-1].Date}\")\n",
    "print(f\"=== close mean {new_pred.close_std.mean()} volume mean {new_pred.volume_std.mean()} vix {new_pred.vix.mean()+2.5} ===\")\n",
    "print(f\"=== open mean {new_pred.open_std.mean()} high mean {new_pred.high_std.mean()} low mean {new_pred.low_std.mean()} ===\")\n",
    "# print(new_pred[std_columns])\n",
    "print(\"\")\n",
    "plt.scatter(y=new_pred.close_std.cumsum(), x=new_pred.index, label='avg prediction') \n",
    "\n",
    "# print out the ground truth\n",
    "if len(all_data_df) > len(context_df):\n",
    "    print(\"=== ground truth ===\")\n",
    "    ground_truth = all_data_df.iloc[len(context_df):len(pred)].copy()\n",
    "    ground_truth.loc[:, 'close_std'] = (ground_truth.close_bucket - StockData.CLOSE_LABELS.min()).map(lambda x: StockData.BIN_VALUES[x])\n",
    "    ground_truth.loc[:, 'open_std'] = (ground_truth.open_bucket - StockData.OPEN_LABELS.min()).map(lambda x: StockData.BIN_VALUES[x])\n",
    "    ground_truth.loc[:, 'high_std'] = (ground_truth.high_bucket - StockData.HIGH_LABELS.min()).map(lambda x: StockData.BIN_VALUES[x])\n",
    "    ground_truth.loc[:, 'low_std'] = (ground_truth.low_bucket - StockData.LOW_LABELS.min()).map(lambda x: StockData.BIN_VALUES[x])\n",
    "    ground_truth.loc[:, 'volume_std'] = (ground_truth.volume_bucket  - StockData.VOLUME_LABELS.min()).map(lambda x: StockData.BIN_VALUES[x])\n",
    "    ground_truth.loc[:, 'vix'] = (ground_truth.vix_bucket  - StockData.VIX_LABELS.min()).map(lambda x: StockData.VIX_BINS[x])\n",
    "    print(f\"=== close mean {ground_truth.close_std.mean()} volume mean {ground_truth.volume_std.mean()} vix mean {ground_truth.vix.mean()} ===\")\n",
    "    print(f\"=== open mean {ground_truth.open_std.mean()} high mean {ground_truth.high_std.mean()} low mean {ground_truth.low_std.mean()} ===\")\n",
    "    # print(ground_truth[std_columns])\n",
    "    plt.plot(ground_truth.close_std.cumsum(), label='actual', color='black') \n",
    "\n",
    "plt.legend()  # Adds a legend to distinguish the lines\n",
    "plt.show()  # Displays the plot"
   ]
  },
  {
   "cell_type": "code",
   "execution_count": null,
   "id": "7e78dcc3-5653-42c5-982f-36d43c82ce2e",
   "metadata": {},
   "outputs": [],
   "source": []
  }
 ],
 "metadata": {
  "kernelspec": {
   "display_name": "Python 3 (ipykernel)",
   "language": "python",
   "name": "python3"
  },
  "language_info": {
   "codemirror_mode": {
    "name": "ipython",
    "version": 3
   },
   "file_extension": ".py",
   "mimetype": "text/x-python",
   "name": "python",
   "nbconvert_exporter": "python",
   "pygments_lexer": "ipython3",
   "version": "3.10.4"
  }
 },
 "nbformat": 4,
 "nbformat_minor": 5
}
