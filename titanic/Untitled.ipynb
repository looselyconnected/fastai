{
 "cells": [
  {
   "cell_type": "code",
   "execution_count": 1,
   "metadata": {},
   "outputs": [],
   "source": [
    "from data import get_tables\n",
    "from data import get_embedding_sizes\n",
    "from data import predict_and_save\n",
    "from fastai.structured import *\n",
    "from fastai.column_data import ColumnarModelData\n",
    "np.set_printoptions(threshold=50, edgeitems=20)"
   ]
  },
  {
   "cell_type": "code",
   "execution_count": 2,
   "metadata": {},
   "outputs": [],
   "source": [
    "tables = get_tables('data/', ['train', 'test'])\n",
    "\n",
    "# Not using last name or cabin right now - cardinality is too high\n",
    "cat_vars = ['Pclass', 'Sex', 'Embarked', 'Title']\n",
    "cont_vars = ['Age', 'SibSp', 'Parch', 'Fare']\n",
    "\n",
    "for table in tables:\n",
    "    for v in cat_vars:\n",
    "        table[v] = table[v].astype('category').cat.as_ordered()\n",
    "\n",
    "train, test = tables\n",
    "test['Survived'] = 0\n",
    "train = train[cat_vars + cont_vars + ['Survived']]\n",
    "test = test[cat_vars + cont_vars + ['Survived', 'PassengerId']]\n",
    "\n",
    "df, y, nas, mapper = proc_df(train, 'Survived', do_scale=True)\n",
    "df_test, _, nas, mapper = proc_df(test, 'Survived', do_scale=True, skip_flds=['PassengerId'],\n",
    "                                  mapper=mapper, na_dict=nas)"
   ]
  },
  {
   "cell_type": "code",
   "execution_count": 3,
   "metadata": {},
   "outputs": [],
   "source": [
    "val_idx = df.sample(frac=0.25).index\n",
    "\n",
    "md = ColumnarModelData.from_data_frame('data/', val_idx, df, y.astype(np.float32), cat_flds=cat_vars,\n",
    "                                       bs=64, test_df=df_test)\n",
    "embedding_sizes = get_embedding_sizes(cat_vars, train)\n",
    "\n",
    "model = md.get_learner(embedding_sizes, len(df.columns) - len(cat_vars), 0.04, 1, [8, 4], [0.001, 0.01],\n",
    "                       y_range=(0, 1))\n",
    "#model.summary()\n"
   ]
  },
  {
   "cell_type": "code",
   "execution_count": 4,
   "metadata": {},
   "outputs": [],
   "source": [
    "#model.fit(1e-3, 80)\n",
    "#model.save('model-0')"
   ]
  },
  {
   "cell_type": "code",
   "execution_count": 5,
   "metadata": {},
   "outputs": [],
   "source": [
    "model.load('m-1')"
   ]
  },
  {
   "cell_type": "code",
   "execution_count": 6,
   "metadata": {},
   "outputs": [
    {
     "data": {
      "application/vnd.jupyter.widget-view+json": {
       "model_id": "554f113fd3e249e98afb8ab77ac51bc9",
       "version_major": 2,
       "version_minor": 0
      },
      "text/plain": [
       "HBox(children=(IntProgress(value=0, description='Epoch', max=30, style=ProgressStyle(description_width='initia…"
      ]
     },
     "metadata": {},
     "output_type": "display_data"
    },
    {
     "name": "stdout",
     "output_type": "stream",
     "text": [
      "epoch      trn_loss   val_loss                                                                                                                                                                                          \n",
      "    0      0.110474   0.137816  \n",
      "    1      0.111191   0.137922                                                                                                                                                                                          \n",
      "    2      0.113721   0.137872                                                                                                                                                                                          \n",
      "    3      0.117034   0.137912                                                                                                                                                                                          \n",
      "    4      0.117877   0.137997                                                                                                                                                                                          \n",
      "    5      0.117538   0.137939                                                                                                                                                                                          \n",
      "    6      0.116469   0.137959                                                                                                                                                                                          \n",
      "    7      0.117004   0.137928                                                                                                                                                                                          \n",
      "    8      0.116539   0.13799                                                                                                                                                                                           \n",
      "    9      0.116785   0.137999                                                                                                                                                                                          \n",
      "    10     0.116441   0.137959                                                                                                                                                                                          \n",
      "    11     0.116579   0.138028                                                                                                                                                                                          \n",
      "    12     0.115586   0.138011                                                                                                                                                                                          \n",
      "    13     0.115118   0.138026                                                                                                                                                                                          \n",
      "    14     0.114959   0.13808                                                                                                                                                                                           \n",
      "    15     0.115054   0.138068                                                                                                                                                                                          \n",
      "    16     0.114714   0.138098                                                                                                                                                                                          \n",
      "    17     0.114543   0.138078                                                                                                                                                                                          \n",
      "    18     0.113955   0.138107                                                                                                                                                                                          \n",
      "    19     0.112819   0.138074                                                                                                                                                                                          \n",
      "    20     0.113484   0.13801                                                                                                                                                                                           \n",
      "    21     0.113913   0.138028                                                                                                                                                                                          \n",
      "    22     0.1128     0.138038                                                                                                                                                                                          \n",
      "    23     0.113009   0.138015                                                                                                                                                                                          \n",
      "    24     0.112556   0.138037                                                                                                                                                                                          \n",
      "    25     0.112588   0.138151                                                                                                                                                                                          \n",
      "    26     0.112739   0.138075                                                                                                                                                                                          \n",
      "    27     0.112387   0.137995                                                                                                                                                                                          \n",
      "    28     0.11245    0.13797                                                                                                                                                                                           \n",
      "    29     0.112524   0.138021                                                                                                                                                                                          \n",
      "\n"
     ]
    },
    {
     "data": {
      "text/plain": [
       "[array([0.13802])]"
      ]
     },
     "execution_count": 6,
     "metadata": {},
     "output_type": "execute_result"
    }
   ],
   "source": [
    "model.fit(1e-4, 30)"
   ]
  },
  {
   "cell_type": "code",
   "execution_count": 7,
   "metadata": {},
   "outputs": [
    {
     "name": "stderr",
     "output_type": "stream",
     "text": [
      "c:\\users\\yingx\\miniconda3\\lib\\site-packages\\pandas\\core\\indexing.py:543: SettingWithCopyWarning: \n",
      "A value is trying to be set on a copy of a slice from a DataFrame.\n",
      "Try using .loc[row_indexer,col_indexer] = value instead\n",
      "\n",
      "See the caveats in the documentation: http://pandas.pydata.org/pandas-docs/stable/indexing.html#indexing-view-versus-copy\n",
      "  self.obj[item] = s\n"
     ]
    }
   ],
   "source": [
    "predict_and_save(model, test, 'sub-1')"
   ]
  },
  {
   "cell_type": "code",
   "execution_count": null,
   "metadata": {},
   "outputs": [],
   "source": []
  }
 ],
 "metadata": {
  "kernelspec": {
   "display_name": "Python 3",
   "language": "python",
   "name": "python3"
  },
  "language_info": {
   "codemirror_mode": {
    "name": "ipython",
    "version": 3
   },
   "file_extension": ".py",
   "mimetype": "text/x-python",
   "name": "python",
   "nbconvert_exporter": "python",
   "pygments_lexer": "ipython3",
   "version": "3.6.6"
  }
 },
 "nbformat": 4,
 "nbformat_minor": 2
}
